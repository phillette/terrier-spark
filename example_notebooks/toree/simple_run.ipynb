{
 "cells": [
  {
   "cell_type": "markdown",
   "metadata": {},
   "source": [
    "# Welcome to the first example notebook for Terrier-Spark\n",
    "\n",
    "This notebook requires [Apache-Toree](https://toree.apache.org/) to be installed and working. You will also need your Terrier index, and the various topics and qrels to be set appropriately."
   ]
  },
  {
   "cell_type": "markdown",
   "metadata": {},
   "source": [
    "Firstly, lets import Terrier and Terrier-Spark using the `%AddDeps` magic command. Toree can use Maven Central for this, as well as your local Maven repository."
   ]
  },
  {
   "cell_type": "code",
   "execution_count": 1,
   "metadata": {
    "collapsed": false,
    "scrolled": true
   },
   "outputs": [
    {
     "name": "stdout",
     "output_type": "stream",
     "text": [
      "Marking org.terrier:terrier-core:5.0 for download\n",
      "Preparing to fetch from:\n",
      "-> file:/tmp/toree-tmp-dir9121027855058483540/toree_add_deps/\n",
      "-> file:/home/user/.m2/repository\n",
      "-> https://repo1.maven.org/maven2\n",
      "-> New file at /home/user/.m2/repository/org/codehaus/jackson/jackson-mapper-asl/1.9.13/jackson-mapper-asl-1.9.13.pom.lastUpdated\n"
     ]
    }
   ],
   "source": [
    "%AddDeps org.terrier terrier-core 5.0 --repository file:/home/user/.m2/repository --transitive --exclude org.slf4j:slf4j-log4j12  \n",
    "%AddDeps org.terrier terrier-spark 0.0.1-SNAPSHOT --repository file:/home/user/.m2/repository --transitive\n",
    "\n"
   ]
  },
  {
   "cell_type": "markdown",
   "metadata": {},
   "source": [
    "Lets check that we have Terrier correctly imported. Do you get the correct version number?"
   ]
  },
  {
   "cell_type": "code",
   "execution_count": 2,
   "metadata": {
    "collapsed": false
   },
   "outputs": [
    {
     "data": {
      "text/plain": [
       "5.0"
      ]
     },
     "execution_count": 2,
     "metadata": {},
     "output_type": "execute_result"
    }
   ],
   "source": [
    "org.terrier.Version.VERSION"
   ]
  },
  {
   "cell_type": "markdown",
   "metadata": {},
   "source": [
    "Now lets setup the location appropriate for our local setting."
   ]
  },
  {
   "cell_type": "code",
   "execution_count": 3,
   "metadata": {
    "collapsed": false
   },
   "outputs": [
    {
     "data": {
      "text/plain": [
       "terrierHome = /home/user/projects/tr5/Terrier\n",
       "wt2gIndex = /home/user/projects/tr5/terrier-core-4.2-SNAPSHOT/var/index_wt2g/data.properties\n",
       "topicsFile = file:/home/user/TopicsQrels/TREC/WT2G/small_web/topics.401-450\n",
       "qrelsFile = file:/home/user/TopicsQrels/TREC/WT2G/small_web/qrels.trec8\n"
      ]
     },
     "metadata": {},
     "output_type": "display_data"
    },
    {
     "data": {
      "text/plain": [
       "file:/home/user/TopicsQrels/TREC/WT2G/small_web/qrels.trec8"
      ]
     },
     "execution_count": 3,
     "metadata": {},
     "output_type": "execute_result"
    }
   ],
   "source": [
    "val terrierHome = \"/home/user/projects/tr5/Terrier\"\n",
    "val wt2gIndex = \"/home/user/projects/tr5/terrier-core-4.2-SNAPSHOT/var/index_wt2g/data.properties\"\n",
    "val topicsFile = \"file:/home/user/TopicsQrels/TREC/WT2G/small_web/topics.401-450\"\n",
    "val qrelsFile = \"file:/home/user/TopicsQrels/TREC/WT2G/small_web/qrels.trec8\""
   ]
  },
  {
   "cell_type": "markdown",
   "metadata": {},
   "source": [
    "This is our simple function to obtain a Terrier run. It returns a Dataset with three columns: the qid, the query, and the resulting nDCG@20\n"
   ]
  },
  {
   "cell_type": "code",
   "execution_count": 4,
   "metadata": {
    "collapsed": false
   },
   "outputs": [
    {
     "data": {
      "text/plain": [
       "ndcgForModel: (model: String)org.apache.spark.sql.DataFrame\n"
      ]
     },
     "metadata": {},
     "output_type": "display_data"
    }
   ],
   "source": [
    "\n",
    "import org.terrier.spark.ml._\n",
    "import org.terrier.spark._\n",
    "import org.terrier.querying.IndexRef\n",
    "\n",
    "import org.apache.spark.sql.Row\n",
    "import org.apache.spark.sql.types.{StructField,StructType,IntegerType, DoubleType}\n",
    "\n",
    "def ndcgForModel(model : String) = {\n",
    "    \n",
    "    val indexref = IndexRef.of(wt2gIndex)\n",
    "    \n",
    "    val props = Map(\n",
    "    \"terrier.home\" -> terrierHome,\n",
    "    \"termpipelines\"->\"\")\n",
    "    \n",
    "    TopicSource.configureTerrier(props)\n",
    "    val topics = TopicSource.extractTRECTopics(topicsFile)\n",
    "        .toList.toDF(\"qid\", \"query\")\n",
    "\n",
    "    val queryTransform = new QueryingTransformer()\n",
    "        .setTerrierProperties(props)\n",
    "        .setIndexReference(indexref)\n",
    "        .setSampleModel(model)\n",
    "\n",
    "    val r1 = queryTransform.transform(topics)\n",
    "    //r1 is a dataframe with results for queries in topics\n",
    "    val qrelTransform = new QrelTransformer()\n",
    "        .setQrelsFile(qrelsFile)\n",
    "\n",
    "    val r2 = qrelTransform.transform(r1)\n",
    "    //r2 is a dataframe as r1, but also includes a label column \n",
    "    val ndcg = new RankingEvaluator(Measure.NDCG, 20).evaluateByQuery(r2).toList\n",
    "    \n",
    "    \n",
    "    val newSchema = StructType(topics.schema.fields ++ Array(StructField(\"ndcg\", DoubleType, false)))\n",
    "    spark.createDataFrame(topics.rdd.zipWithIndex.map{ case (row, index) => Row.fromSeq(row.toSeq ++ Array(ndcg(index.toInt)))}, newSchema)\n",
    "}\n"
   ]
  },
  {
   "cell_type": "markdown",
   "metadata": {},
   "source": [
    "Lets get the results for two weighting models, TF_IDF and BM25. What is returned is a Dataset with three columns (\"qid\", \"query\", \"ndcg\")"
   ]
  },
  {
   "cell_type": "code",
   "execution_count": 5,
   "metadata": {
    "collapsed": false
   },
   "outputs": [
    {
     "name": "stdout",
     "output_type": "stream",
     "text": [
      "WARNING: The file terrier.properties was not found at location /etc/terrier.properties\n",
      " Assuming the value of terrier.home from the corresponding system property.\n",
      "Please ensure that the property terrier.home\n",
      "is specified in the file terrier.properties,\n",
      "or as a system property in the command line.\n",
      "TERRIER_HOME=/home/user/projects/tr5/Terrier\n",
      "terrier.etc=null\n",
      "TERRIER_HOME=/home/user/projects/tr5/Terrier\n",
      "TERRIER_ETC=/home/user/projects/tr5/Terrier/etc\n",
      "[Stage 0:=============================>                             (1 + 1) / 2]Querying /home/user/projects/tr5/terrier-core-4.2-SNAPSHOT/var/index_wt2g/data.properties for 50 queries\n",
      "[Stage 2:=============================>                             (1 + 1) / 2]Got for 48131 results total\n",
      "We have 47506 qrels\n",
      "TERRIER_HOME=/home/user/projects/tr5/Terrier\n",
      "terrier.etc=null\n",
      "TERRIER_HOME=/home/user/projects/tr5/Terrier\n",
      "TERRIER_ETC=/home/user/projects/tr5/Terrier/etc\n",
      "Querying /home/user/projects/tr5/terrier-core-4.2-SNAPSHOT/var/index_wt2g/data.properties for 50 queries\n",
      "[Stage 14:=============================>                            (1 + 1) / 2]Got for 48131 results total\n",
      "We have 47506 qrels\n",
      "[Stage 19:=============================>                            (1 + 1) / 2]"
     ]
    },
    {
     "data": {
      "text/plain": [
       "TFIDF = [qid: string, query: string ... 1 more field]\n",
       "BM25 = [qid: string, query: string ... 1 more field]\n"
      ]
     },
     "metadata": {},
     "output_type": "display_data"
    },
    {
     "data": {
      "text/plain": [
      ]
     },
     "metadata": {},
     "output_type": "display_data"
    },
    {
     "data": {
      "text/plain": [
       "[qid, query, ndcg]"
      ]
     },
     "execution_count": 5,
     "metadata": {},
     "output_type": "execute_result"
    }
   ],
   "source": [
    "\n",
    "val TFIDF = ndcgForModel(\"TF_IDF\")\n",
    "val BM25 = ndcgForModel(\"BM25\")\n",
    "\n",
    "TFIDF.columns\n"
   ]
  },
  {
   "cell_type": "markdown",
   "metadata": {},
   "source": [
    "How did we do? Lets look at the mean NDCGs.\n"
   ]
  },
  {
   "cell_type": "code",
   "execution_count": 6,
   "metadata": {
    "collapsed": false
   },
   "outputs": [
    {
     "name": "stdout",
     "output_type": "stream",
     "text": [
      "TFIDF\n",
      "[Stage 24:=============================>                            (1 + 1) / 2]+------------------+\n",
      "|         avg(ndcg)|\n",
      "+------------------+\n",
      "|0.3397919431818957|\n",
      "+------------------+\n",
      "\n",
      "BM25\n",
      "+------------------+\n",
      "|         avg(ndcg)|\n",
      "+------------------+\n",
      "|0.3386923263003945|\n",
      "+------------------+\n",
      "\n"
     ]
    }
   ],
   "source": [
    "\n",
    "import org.apache.spark.sql.functions._\n",
    "\n",
    "println(\"TFIDF\")\n",
    "TFIDF.select(avg($\"ndcg\")).show()\n",
    "\n",
    "println(\"BM25\")\n",
    "BM25.select(avg($\"ndcg\")).show()"
   ]
  },
  {
   "cell_type": "markdown",
   "metadata": {},
   "source": [
    "Lets look at the results side by side, so we can see where we went wrong?"
   ]
  },
  {
   "cell_type": "code",
   "execution_count": 7,
   "metadata": {
    "collapsed": false
   },
   "outputs": [
    {
     "name": "stdout",
     "output_type": "stream",
     "text": [
      "[Stage 33:================================================>     (178 + 2) / 200]"
     ]
    },
    {
     "data": {
      "text/plain": [
       "joined = [qid: string, query: string ... 1 more field]\n"
      ]
     },
     "metadata": {},
     "output_type": "display_data"
    },
    {
     "data": {
      "text/html": [
       "<table>\n",
       "<tr><td>427</td><td>uv damage eyes</td><td>-0.05857478287366785</td></tr>\n",
       "<tr><td>424</td><td>suicides</td><td>-0.04259925243625749</td></tr>\n",
       "<tr><td>445</td><td>women clergy</td><td>-0.0420222350661259</td></tr>\n",
       "<tr><td>408</td><td>tropical storms</td><td>-0.010144724844642017</td></tr>\n",
       "<tr><td>401</td><td>foreign minorities germany</td><td>-0.003744521822722807</td></tr>\n",
       "<tr><td>421</td><td>industrial waste disposal</td><td>-0.003600929080181753</td></tr>\n",
       "<tr><td>422</td><td>art stolen forged</td><td>-0.0033479627985089078</td></tr>\n",
       "<tr><td>411</td><td>salvaging shipwreck treasure</td><td>-0.002034006395408086</td></tr>\n",
       "<tr><td>403</td><td>osteoporosis</td><td>-0.0016673813718870445</td></tr>\n",
       "<tr><td>404</td><td>ireland peace talks</td><td>-9.332068582119102E-4</td></tr>\n",
       "<tr><td>436</td><td>railway accidents</td><td>-8.390389246867025E-4</td></tr>\n",
       "<tr><td>412</td><td>airport security</td><td>-5.916538929868764E-4</td></tr>\n",
       "<tr><td>446</td><td>tourists violence</td><td>1.7459024478422291E-4</td></tr>\n",
       "<tr><td>405</td><td>cosmic events</td><td>0.002750823278844128</td></tr>\n",
       "<tr><td>433</td><td>greek philosophy stoicism</td><td>0.007707636798678946</td></tr>\n",
       "<tr><td>443</td><td>u s investment africa</td><td>0.011348999308453525</td></tr>\n",
       "<tr><td>418</td><td>quilts income</td><td>0.012175629147371914</td></tr>\n",
       "<tr><td>448</td><td>ship losses</td><td>0.01879636692115455</td></tr>\n",
       "<tr><td>419</td><td>recycle automobile tires</td><td>0.06216480659093851</td></tr>\n",
       "</table>"
      ],
      "text/plain": [
       "+-----+------------------------------+------------------------+\n",
       "| 427 | uv damage eyes               | -0.05857478287366785   |\n",
       "| 424 | suicides                     | -0.04259925243625749   |\n",
       "| 445 | women clergy                 | -0.0420222350661259    |\n",
       "| 408 | tropical storms              | -0.010144724844642017  |\n",
       "| 401 | foreign minorities germany   | -0.003744521822722807  |\n",
       "| 421 | industrial waste disposal    | -0.003600929080181753  |\n",
       "| 422 | art stolen forged            | -0.0033479627985089078 |\n",
       "| 411 | salvaging shipwreck treasure | -0.002034006395408086  |\n",
       "| 403 | osteoporosis                 | -0.0016673813718870445 |\n",
       "| 404 | ireland peace talks          | -9.332068582119102E-4  |\n",
       "| 436 | railway accidents            | -8.390389246867025E-4  |\n",
       "| 412 | airport security             | -5.916538929868764E-4  |\n",
       "| 446 | tourists violence            | 1.7459024478422291E-4  |\n",
       "| 405 | cosmic events                | 0.002750823278844128   |\n",
       "| 433 | greek philosophy stoicism    | 0.007707636798678946   |\n",
       "| 443 | u s investment africa        | 0.011348999308453525   |\n",
       "| 418 | quilts income                | 0.012175629147371914   |\n",
       "| 448 | ship losses                  | 0.01879636692115455    |\n",
       "| 419 | recycle automobile tires     | 0.06216480659093851    |\n",
       "+-----+------------------------------+------------------------+"
      ]
     },
     "execution_count": 7,
     "metadata": {},
     "output_type": "execute_result"
    }
   ],
   "source": [
    "\n",
    "\n",
    "import org.apache.spark.sql.functions.col\n",
    "\n",
    "val joined = TFIDF\n",
    "    .join(BM25, TFIDF.col(\"qid\") === BM25.col(\"qid\"))\n",
    "    .toDF(\"qid\", \"query\", \"TFIDF\", \"qidBM25\", \"queryBM25\", \"BM25\")\n",
    "    .select($\"qid\", $\"query\", $\"BM25\" - $\"TFIDF\")\n",
    "    .orderBy($\"BM25\" - $\"TFIDF\")\n",
    "\n",
    "joined.filter(row => row.get(2) != 0.0).collect\n"
   ]
  },
  {
   "cell_type": "markdown",
   "metadata": {},
   "source": [
    "OK, so we can see which queries BM25 helped or not. Can we show this graphically? \n",
    "\n",
    "We will use the [vegas-viz](https://github.com/vegas-viz/Vegas) module for making the graphs, which we import using `%AddDeps` magic."
   ]
  },
  {
   "cell_type": "code",
   "execution_count": 11,
   "metadata": {
    "collapsed": false,
    "scrolled": false
   },
   "outputs": [
    {
     "name": "stdout",
     "output_type": "stream",
     "text": [
      "Marking org.vegas-viz:vegas_2.11:0.3.11 for download\n",
      "Preparing to fetch from:\n",
      "-> file:/tmp/toree-tmp-dir9121027855058483540/toree_add_deps/\n",
      "-> https://repo1.maven.org/maven2\n",
      "-> New file at /tmp/toree-tmp-dir9121027855058483540/toree_add_deps/https/repo1.maven.org/maven2/io/circe/circe-core_2.11/0.7.0/circe-core_2.11-0.7.0.pom\n",
      "Marking org.vegas-viz:vegas-spark_2.11:0.3.11 for download\n",
      "Preparing to fetch from:\n",
      "-> file:/tmp/toree-tmp-dir9121027855058483540/toree_add_deps/\n",
      "-> https://repo1.maven.org/maven2\n",
      "-> New file at /tmp/toree-tmp-dir9121027855058483540/toree_add_deps/https/repo1.maven.org/maven2/io/circe/circe-core_2.11/0.7.0/circe-core_2.11-0.7.0.pom\n"
     ]
    }
   ],
   "source": [
    "%AddDeps org.vegas-viz vegas_2.11 0.3.11 --transitive --exclude org.scala-lang:* --exclude org.scala-lang.modules:*\n",
    "%AddDeps org.vegas-viz vegas-spark_2.11 0.3.11 --transitive --exclude org.scala-lang:* --exclude org.scala-lang.modules:*\n",
    "\n"
   ]
  },
  {
   "cell_type": "code",
   "execution_count": 12,
   "metadata": {
    "collapsed": false
   },
   "outputs": [
    {
     "name": "stdout",
     "output_type": "stream",
     "text": [
      "[Stage 57:>                                                        (0 + 0) / 21]"
     ]
    },
    {
     "data": {
      "text/html": [
       "\n",
       "  <iframe id=\"frame-vegas-128e61f0-b6bd-4e07-a3e0-0017266d9ab4\" sandbox=\"allow-scripts allow-same-origin\" style=\"border: none; width: 100%\" srcdoc=\"&lt;html&gt;\n",
       "  &lt;head&gt;\n",
       "    &lt;script src=&quot;https://cdn.jsdelivr.net/webjars/org.webjars.bower/d3/3.5.17/d3.min.js&quot; charset=&quot;utf-8&quot;&gt;&lt;/script&gt;\n",
       "&lt;script src=&quot;https://cdn.jsdelivr.net/webjars/org.webjars.bower/vega/2.6.3/vega.min.js&quot; charset=&quot;utf-8&quot;&gt;&lt;/script&gt;\n",
       "&lt;script src=&quot;https://cdn.jsdelivr.net/webjars/org.webjars.bower/vega-lite/1.2.0/vega-lite.min.js&quot; charset=&quot;utf-8&quot;&gt;&lt;/script&gt;\n",
       "&lt;script src=&quot;https://vega.github.io/vega-editor/vendor/vega-embed.js&quot; charset=&quot;utf-8&quot;&gt;&lt;/script&gt;\n",
       "  &lt;/head&gt;\n",
       "  &lt;body&gt;\n",
       " &lt;div id='vegas-128e61f0-b6bd-4e07-a3e0-0017266d9ab4'&gt;&lt;/div&gt;\n",
       " &lt;script&gt;\n",
       "   var embedSpec = {\n",
       "     mode: &quot;vega-lite&quot;,\n",
       "     spec: {\n",
       "  &quot;mark&quot; : &quot;bar&quot;,\n",
       "  &quot;encoding&quot; : {\n",
       "    &quot;x&quot; : {\n",
       "      &quot;sort&quot; : &quot;none&quot;,\n",
       "      &quot;field&quot; : &quot;qid&quot;,\n",
       "      &quot;type&quot; : &quot;nominal&quot;\n",
       "    },\n",
       "    &quot;y&quot; : {\n",
       "      &quot;field&quot; : &quot;(BM25 - TFIDF)&quot;,\n",
       "      &quot;type&quot; : &quot;quantitative&quot;\n",
       "    }\n",
       "  },\n",
       "  &quot;description&quot; : &quot;Per Query delta NDCG&quot;,\n",
       "  &quot;data&quot; : {\n",
       "    &quot;values&quot; : [\n",
       "      {\n",
       "        &quot;qid&quot; : &quot;427&quot;,\n",
       "        &quot;query&quot; : &quot;uv damage eyes&quot;,\n",
       "        &quot;(BM25 - TFIDF)&quot; : -0.05857478287366785\n",
       "      },\n",
       "      {\n",
       "        &quot;qid&quot; : &quot;424&quot;,\n",
       "        &quot;query&quot; : &quot;suicides&quot;,\n",
       "        &quot;(BM25 - TFIDF)&quot; : -0.04259925243625749\n",
       "      },\n",
       "      {\n",
       "        &quot;qid&quot; : &quot;445&quot;,\n",
       "        &quot;query&quot; : &quot;women clergy&quot;,\n",
       "        &quot;(BM25 - TFIDF)&quot; : -0.0420222350661259\n",
       "      },\n",
       "      {\n",
       "        &quot;qid&quot; : &quot;408&quot;,\n",
       "        &quot;query&quot; : &quot;tropical storms&quot;,\n",
       "        &quot;(BM25 - TFIDF)&quot; : -0.010144724844642017\n",
       "      },\n",
       "      {\n",
       "        &quot;qid&quot; : &quot;401&quot;,\n",
       "        &quot;query&quot; : &quot;foreign minorities germany&quot;,\n",
       "        &quot;(BM25 - TFIDF)&quot; : -0.003744521822722807\n",
       "      },\n",
       "      {\n",
       "        &quot;qid&quot; : &quot;421&quot;,\n",
       "        &quot;query&quot; : &quot;industrial waste disposal&quot;,\n",
       "        &quot;(BM25 - TFIDF)&quot; : -0.003600929080181753\n",
       "      },\n",
       "      {\n",
       "        &quot;qid&quot; : &quot;422&quot;,\n",
       "        &quot;query&quot; : &quot;art stolen forged&quot;,\n",
       "        &quot;(BM25 - TFIDF)&quot; : -0.0033479627985089078\n",
       "      },\n",
       "      {\n",
       "        &quot;qid&quot; : &quot;411&quot;,\n",
       "        &quot;query&quot; : &quot;salvaging shipwreck treasure&quot;,\n",
       "        &quot;(BM25 - TFIDF)&quot; : -0.002034006395408086\n",
       "      },\n",
       "      {\n",
       "        &quot;qid&quot; : &quot;403&quot;,\n",
       "        &quot;query&quot; : &quot;osteoporosis&quot;,\n",
       "        &quot;(BM25 - TFIDF)&quot; : -0.0016673813718870445\n",
       "      },\n",
       "      {\n",
       "        &quot;qid&quot; : &quot;404&quot;,\n",
       "        &quot;query&quot; : &quot;ireland peace talks&quot;,\n",
       "        &quot;(BM25 - TFIDF)&quot; : -9.332068582119102E-4\n",
       "      },\n",
       "      {\n",
       "        &quot;qid&quot; : &quot;436&quot;,\n",
       "        &quot;query&quot; : &quot;railway accidents&quot;,\n",
       "        &quot;(BM25 - TFIDF)&quot; : -8.390389246867025E-4\n",
       "      },\n",
       "      {\n",
       "        &quot;qid&quot; : &quot;412&quot;,\n",
       "        &quot;query&quot; : &quot;airport security&quot;,\n",
       "        &quot;(BM25 - TFIDF)&quot; : -5.916538929868764E-4\n",
       "      },\n",
       "      {\n",
       "        &quot;qid&quot; : &quot;447&quot;,\n",
       "        &quot;query&quot; : &quot;stirling engine&quot;,\n",
       "        &quot;(BM25 - TFIDF)&quot; : 0.0\n",
       "      },\n",
       "      {\n",
       "        &quot;qid&quot; : &quot;415&quot;,\n",
       "        &quot;query&quot; : &quot;drugs golden triangle&quot;,\n",
       "        &quot;(BM25 - TFIDF)&quot; : 0.0\n",
       "      },\n",
       "      {\n",
       "        &quot;qid&quot; : &quot;434&quot;,\n",
       "        &quot;query&quot; : &quot;estonia economy&quot;,\n",
       "        &quot;(BM25 - TFIDF)&quot; : 0.0\n",
       "      },\n",
       "      {\n",
       "        &quot;qid&quot; : &quot;423&quot;,\n",
       "        &quot;query&quot; : &quot;milosevic mirjana markovic&quot;,\n",
       "        &quot;(BM25 - TFIDF)&quot; : 0.0\n",
       "      },\n",
       "      {\n",
       "        &quot;qid&quot; : &quot;440&quot;,\n",
       "        &quot;query&quot; : &quot;child labor&quot;,\n",
       "        &quot;(BM25 - TFIDF)&quot; : 0.0\n",
       "      },\n",
       "      {\n",
       "        &quot;qid&quot; : &quot;413&quot;,\n",
       "        &quot;query&quot; : &quot;steel production&quot;,\n",
       "        &quot;(BM25 - TFIDF)&quot; : 0.0\n",
       "      },\n",
       "      {\n",
       "        &quot;qid&quot; : &quot;450&quot;,\n",
       "        &quot;query&quot; : &quot;king hussein peace&quot;,\n",
       "        &quot;(BM25 - TFIDF)&quot; : 0.0\n",
       "      },\n",
       "      {\n",
       "        &quot;qid&quot; : &quot;430&quot;,\n",
       "        &quot;query&quot; : &quot;killer bee attacks&quot;,\n",
       "        &quot;(BM25 - TFIDF)&quot; : 0.0\n",
       "      },\n",
       "      {\n",
       "        &quot;qid&quot; : &quot;444&quot;,\n",
       "        &quot;query&quot; : &quot;supercritical fluids&quot;,\n",
       "        &quot;(BM25 - TFIDF)&quot; : 0.0\n",
       "      },\n",
       "      {\n",
       "        &quot;qid&quot; : &quot;420&quot;,\n",
       "        &quot;query&quot; : &quot;carbon monoxide poisoning&quot;,\n",
       "        &quot;(BM25 - TFIDF)&quot; : 0.0\n",
       "      },\n",
       "      {\n",
       "        &quot;qid&quot; : &quot;435&quot;,\n",
       "        &quot;query&quot; : &quot;curbing population growth&quot;,\n",
       "        &quot;(BM25 - TFIDF)&quot; : 0.0\n",
       "      },\n",
       "      {\n",
       "        &quot;qid&quot; : &quot;442&quot;,\n",
       "        &quot;query&quot; : &quot;heroic acts&quot;,\n",
       "        &quot;(BM25 - TFIDF)&quot; : 0.0\n",
       "      },\n",
       "      {\n",
       "        &quot;qid&quot; : &quot;428&quot;,\n",
       "        &quot;query&quot; : &quot;declining birth rates&quot;,\n",
       "        &quot;(BM25 - TFIDF)&quot; : 0.0\n",
       "      },\n",
       "      {\n",
       "        &quot;qid&quot; : &quot;425&quot;,\n",
       "        &quot;query&quot; : &quot;counterfeiting money&quot;,\n",
       "        &quot;(BM25 - TFIDF)&quot; : 0.0\n",
       "      },\n",
       "      {\n",
       "        &quot;qid&quot; : &quot;410&quot;,\n",
       "        &quot;query&quot; : &quot;schengen agreement&quot;,\n",
       "        &quot;(BM25 - TFIDF)&quot; : 0.0\n",
       "      },\n",
       "      {\n",
       "        &quot;qid&quot; : &quot;449&quot;,\n",
       "        &quot;query&quot; : &quot;antibiotics ineffectiveness&quot;,\n",
       "        &quot;(BM25 - TFIDF)&quot; : 0.0\n",
       "      },\n",
       "      {\n",
       "        &quot;qid&quot; : &quot;429&quot;,\n",
       "        &quot;query&quot; : &quot;legionnaires disease&quot;,\n",
       "        &quot;(BM25 - TFIDF)&quot; : 0.0\n",
       "      },\n",
       "      {\n",
       "        &quot;qid&quot; : &quot;439&quot;,\n",
       "        &quot;query&quot; : &quot;inventions scientific discoveries&quot;,\n",
       "        &quot;(BM25 - TFIDF)&quot; : 0.0\n",
       "      },\n",
       "      {\n",
       "        &quot;qid&quot; : &quot;414&quot;,\n",
       "        &quot;query&quot; : &quot;cuba sugar exports&quot;,\n",
       "        &quot;(BM25 - TFIDF)&quot; : 0.0\n",
       "      },\n",
       "      {\n",
       "        &quot;qid&quot; : &quot;407&quot;,\n",
       "        &quot;query&quot; : &quot;poaching wildlife preserves&quot;,\n",
       "        &quot;(BM25 - TFIDF)&quot; : 0.0\n",
       "      },\n",
       "      {\n",
       "        &quot;qid&quot; : &quot;409&quot;,\n",
       "        &quot;query&quot; : &quot;legal pan am 103&quot;,\n",
       "        &quot;(BM25 - TFIDF)&quot; : 0.0\n",
       "      },\n",
       "      {\n",
       "        &quot;qid&quot; : &quot;426&quot;,\n",
       "        &quot;query&quot; : &quot;law enforcement dogs&quot;,\n",
       "        &quot;(BM25 - TFIDF)&quot; : 0.0\n",
       "      },\n",
       "      {\n",
       "        &quot;qid&quot; : &quot;406&quot;,\n",
       "        &quot;query&quot; : &quot;parkinson s disease&quot;,\n",
       "        &quot;(BM25 - TFIDF)&quot; : 0.0\n",
       "      },\n",
       "      {\n",
       "        &quot;qid&quot; : &quot;432&quot;,\n",
       "        &quot;query&quot; : &quot;profiling motorists police&quot;,\n",
       "        &quot;(BM25 - TFIDF)&quot; : 0.0\n",
       "      },\n",
       "      {\n",
       "        &quot;qid&quot; : &quot;441&quot;,\n",
       "        &quot;query&quot; : &quot;lyme disease&quot;,\n",
       "        &quot;(BM25 - TFIDF)&quot; : 0.0\n",
       "      },\n",
       "      {\n",
       "        &quot;qid&quot; : &quot;416&quot;,\n",
       "        &quot;query&quot; : &quot;three gorges project&quot;,\n",
       "        &quot;(BM25 - TFIDF)&quot; : 0.0\n",
       "      },\n",
       "      {\n",
       "        &quot;qid&quot; : &quot;437&quot;,\n",
       "        &quot;query&quot; : &quot;deregulation gas electric&quot;,\n",
       "        &quot;(BM25 - TFIDF)&quot; : 0.0\n",
       "      },\n",
       "      {\n",
       "        &quot;qid&quot; : &quot;402&quot;,\n",
       "        &quot;query&quot; : &quot;behavioral genetics&quot;,\n",
       "        &quot;(BM25 - TFIDF)&quot; : 0.0\n",
       "      },\n",
       "      {\n",
       "        &quot;qid&quot; : &quot;431&quot;,\n",
       "        &quot;query&quot; : &quot;robotic technology&quot;,\n",
       "        &quot;(BM25 - TFIDF)&quot; : 0.0\n",
       "      },\n",
       "      {\n",
       "        &quot;qid&quot; : &quot;417&quot;,\n",
       "        &quot;query&quot; : &quot;creativity&quot;,\n",
       "        &quot;(BM25 - TFIDF)&quot; : 0.0\n",
       "      },\n",
       "      {\n",
       "        &quot;qid&quot; : &quot;438&quot;,\n",
       "        &quot;query&quot; : &quot;tourism increase&quot;,\n",
       "        &quot;(BM25 - TFIDF)&quot; : 0.0\n",
       "      },\n",
       "      {\n",
       "        &quot;qid&quot; : &quot;446&quot;,\n",
       "        &quot;query&quot; : &quot;tourists violence&quot;,\n",
       "        &quot;(BM25 - TFIDF)&quot; : 1.7459024478422291E-4\n",
       "      },\n",
       "      {\n",
       "        &quot;qid&quot; : &quot;405&quot;,\n",
       "        &quot;query&quot; : &quot;cosmic events&quot;,\n",
       "        &quot;(BM25 - TFIDF)&quot; : 0.002750823278844128\n",
       "      },\n",
       "      {\n",
       "        &quot;qid&quot; : &quot;433&quot;,\n",
       "        &quot;query&quot; : &quot;greek philosophy stoicism&quot;,\n",
       "        &quot;(BM25 - TFIDF)&quot; : 0.007707636798678946\n",
       "      },\n",
       "      {\n",
       "        &quot;qid&quot; : &quot;443&quot;,\n",
       "        &quot;query&quot; : &quot;u s investment africa&quot;,\n",
       "        &quot;(BM25 - TFIDF)&quot; : 0.011348999308453525\n",
       "      },\n",
       "      {\n",
       "        &quot;qid&quot; : &quot;418&quot;,\n",
       "        &quot;query&quot; : &quot;quilts income&quot;,\n",
       "        &quot;(BM25 - TFIDF)&quot; : 0.012175629147371914\n",
       "      },\n",
       "      {\n",
       "        &quot;qid&quot; : &quot;448&quot;,\n",
       "        &quot;query&quot; : &quot;ship losses&quot;,\n",
       "        &quot;(BM25 - TFIDF)&quot; : 0.01879636692115455\n",
       "      },\n",
       "      {\n",
       "        &quot;qid&quot; : &quot;419&quot;,\n",
       "        &quot;query&quot; : &quot;recycle automobile tires&quot;,\n",
       "        &quot;(BM25 - TFIDF)&quot; : 0.06216480659093851\n",
       "      }\n",
       "    ]\n",
       "  },\n",
       "  &quot;config&quot; : {\n",
       "    &quot;cell&quot; : {\n",
       "      &quot;width&quot; : 600.0,\n",
       "      &quot;height&quot; : 300.0\n",
       "    }\n",
       "  }\n",
       "}\n",
       "   }\n",
       "   vg.embed(&quot;#vegas-128e61f0-b6bd-4e07-a3e0-0017266d9ab4&quot;, embedSpec, function(error, result) {});\n",
       " &lt;/script&gt;\n",
       "\n",
       "    &lt;/body&gt;\n",
       "&lt;/html&gt;\"></iframe>\n",
       "  <script>\n",
       "    (function() {\n",
       "      function resizeIFrame(el, k) {\n",
       "        var height = el.contentWindow.document.body.scrollHeight || '400'; // Fallback in case of no scroll height\n",
       "        el.style.height = height + 'px';\n",
       "        if (k <= 10) { setTimeout(function() { resizeIFrame(el, k+1) }, 1000 + (k * 250)) };\n",
       "      }\n",
       "      resizeIFrame(document.querySelector('#frame-vegas-128e61f0-b6bd-4e07-a3e0-0017266d9ab4'), 1);\n",
       "    })(); // IIFE\n",
       "  </script>\n",
       "    "
      ]
     },
     "metadata": {},
     "output_type": "display_data"
    },
    {
     "data": {
      "text/plain": [
       "queryCount = 50\n",
       "plot = ExtendedUnitSpecBuilder(ExtendedUnitSpec(None,None,Bar,Some(Encoding(None,None,Some(PositionChannelDef(None,None,Some(SortSortOrder(None)),Some(qid),Some(Nominal),None,None,None,None,None)),Some(PositionChannelDef(None,None,None,Some((BM25 - TFIDF)),Some(Quantitative),None,None,None,None,None)),None,None,None,None,None,None,None,None,None,None,None)),None,Some(Per Query delta NDCG),Some(Data(None,None,Some(List(Values(Map(qid -> 427, query -> uv damage eyes, (BM25 - TFIDF) -> -0.05857478287366785)), Values(Map(qid -> 424, query -> suicides, (BM25 - TFIDF) -> -0.04259925243625749)), Values(Map(qid -> 445, query -> women clergy, (BM25 - TFIDF) -> -0.0...\n"
      ]
     },
     "metadata": {},
     "output_type": "display_data"
    },
    {
     "data": {
      "text/plain": [
       "ExtendedUnitSpecBuilder(ExtendedUnitSpec(None,None,Bar,Some(Encoding(None,None,Some(PositionChannelDef(None,None,Some(SortSortOrder(None)),Some(qid),Some(Nominal),None,None,None,None,None)),Some(PositionChannelDef(None,None,None,Some((BM25 - TFIDF)),Some(Quantitative),None,None,None,None,None)),None,None,None,None,None,None,None,None,None,None,None)),None,Some(Per Query delta NDCG),Some(Data(None,None,Some(List(Values(Map(qid -> 427, query -> uv damage eyes, (BM25 - TFIDF) -> -0.05857478287366785)), Values(Map(qid -> 424, query -> suicides, (BM25 - TFIDF) -> -0.04259925243625749)), Values(Map(qid -> 445, query -> women clergy, (BM25 - TFIDF) -> -0.0420222350661259)), Values(Map(qid -> 408, query -> tropical storms, (BM25 - TFIDF) -> -0.010144724844642017)), Values(Map(qid -> 401, query -> foreign minorities germany, (BM25 - TFIDF) -> -0.003744521822722807)), Values(Map(qid -> 421, query -> industrial waste disposal, (BM25 - TFIDF) -> -0.003600929080181753)), Values(Map(qid -> 422, query -> art stolen forged, (BM25 - TFIDF) -> -0.0033479627985089078)), Values(Map(qid -> 411, query -> salvaging shipwreck treasure, (BM25 - TFIDF) -> -0.002034006395408086)), Values(Map(qid -> 403, query -> osteoporosis, (BM25 - TFIDF) -> -0.0016673813718870445)), Values(Map(qid -> 404, query -> ireland peace talks, (BM25 - TFIDF) -> -9.332068582119102E-4)), Values(Map(qid -> 436, query -> railway accidents, (BM25 - TFIDF) -> -8.390389246867025E-4)), Values(Map(qid -> 412, query -> airport security, (BM25 - TFIDF) -> -5.916538929868764E-4)), Values(Map(qid -> 447, query -> stirling engine, (BM25 - TFIDF) -> 0.0)), Values(Map(qid -> 415, query -> drugs golden triangle, (BM25 - TFIDF) -> 0.0)), Values(Map(qid -> 434, query -> estonia economy, (BM25 - TFIDF) -> 0.0)), Values(Map(qid -> 423, query -> milosevic mirjana markovic, (BM25 - TFIDF) -> 0.0)), Values(Map(qid -> 440, query -> child labor, (BM25 - TFIDF) -> 0.0)), Values(Map(qid -> 413, query -> steel production, (BM25 - TFIDF) -> 0.0)), Values(Map(qid -> 450, query -> king hussein peace, (BM25 - TFIDF) -> 0.0)), Values(Map(qid -> 430, query -> killer bee attacks, (BM25 - TFIDF) -> 0.0)), Values(Map(qid -> 444, query -> supercritical fluids, (BM25 - TFIDF) -> 0.0)), Values(Map(qid -> 420, query -> carbon monoxide poisoning, (BM25 - TFIDF) -> 0.0)), Values(Map(qid -> 435, query -> curbing population growth, (BM25 - TFIDF) -> 0.0)), Values(Map(qid -> 442, query -> heroic acts, (BM25 - TFIDF) -> 0.0)), Values(Map(qid -> 428, query -> declining birth rates, (BM25 - TFIDF) -> 0.0)), Values(Map(qid -> 425, query -> counterfeiting money, (BM25 - TFIDF) -> 0.0)), Values(Map(qid -> 410, query -> schengen agreement, (BM25 - TFIDF) -> 0.0)), Values(Map(qid -> 449, query -> antibiotics ineffectiveness, (BM25 - TFIDF) -> 0.0)), Values(Map(qid -> 429, query -> legionnaires disease, (BM25 - TFIDF) -> 0.0)), Values(Map(qid -> 439, query -> inventions scientific discoveries, (BM25 - TFIDF) -> 0.0)), Values(Map(qid -> 414, query -> cuba sugar exports, (BM25 - TFIDF) -> 0.0)), Values(Map(qid -> 407, query -> poaching wildlife preserves, (BM25 - TFIDF) -> 0.0)), Values(Map(qid -> 409, query -> legal pan am 103, (BM25 - TFIDF) -> 0.0)), Values(Map(qid -> 426, query -> law enforcement dogs, (BM25 - TFIDF) -> 0.0)), Values(Map(qid -> 406, query -> parkinson s disease, (BM25 - TFIDF) -> 0.0)), Values(Map(qid -> 432, query -> profiling motorists police, (BM25 - TFIDF) -> 0.0)), Values(Map(qid -> 441, query -> lyme disease, (BM25 - TFIDF) -> 0.0)), Values(Map(qid -> 416, query -> three gorges project, (BM25 - TFIDF) -> 0.0)), Values(Map(qid -> 437, query -> deregulation gas electric, (BM25 - TFIDF) -> 0.0)), Values(Map(qid -> 402, query -> behavioral genetics, (BM25 - TFIDF) -> 0.0)), Values(Map(qid -> 431, query -> robotic technology, (BM25 - TFIDF) -> 0.0)), Values(Map(qid -> 417, query -> creativity, (BM25 - TFIDF) -> 0.0)), Values(Map(qid -> 438, query -> tourism increase, (BM25 - TFIDF) -> 0.0)), Values(Map(qid -> 446, query -> tourists violence, (BM25 - TFIDF) -> 1.7459024478422291E-4)), Values(Map(qid -> 405, query -> cosmic events, (BM25 - TFIDF) -> 0.002750823278844128)), Values(Map(qid -> 433, query -> greek philosophy stoicism, (BM25 - TFIDF) -> 0.007707636798678946)), Values(Map(qid -> 443, query -> u s investment africa, (BM25 - TFIDF) -> 0.011348999308453525)), Values(Map(qid -> 418, query -> quilts income, (BM25 - TFIDF) -> 0.012175629147371914)), Values(Map(qid -> 448, query -> ship losses, (BM25 - TFIDF) -> 0.01879636692115455)), Values(Map(qid -> 419, query -> recycle automobile tires, (BM25 - TFIDF) -> 0.06216480659093851)))))),None,Some(Config(None,None,None,None,None,Some(CellConfig(Some(600.0),Some(300.0),None,None,None,None,None,None,None,None)),None,None,None,None,None,None))))"
      ]
     },
     "execution_count": 12,
     "metadata": {},
     "output_type": "execute_result"
    }
   ],
   "source": [
    "import vegas._\n",
    "import vegas.render.WindowRenderer._\n",
    "import vegas.sparkExt._\n",
    "val queryCount = joined.count\n",
    "\n",
    "val plot = Vegas(\"Per Query delta NDCG\")\n",
    "   .withDataFrame(joined.orderBy($\"BM25\" - $\"TFIDF\"))\n",
    "   .configCell(width=600, height=300)\n",
    "   .encodeX(\"qid\", Nominal, sortOrder=SortOrder.None)\n",
    "   .encodeY(\"(BM25 - TFIDF)\", Quant)\n",
    "   .mark(Bar)\n",
    "plot.show"
   ]
  },
  {
   "cell_type": "markdown",
   "metadata": {},
   "source": [
    "And there we have it - query 419 was most benefitted by BM25, while 424 and 427 were least."
   ]
  }
 ],
 "metadata": {
  "anaconda-cloud": {},
  "kernelspec": {
   "display_name": "Apache Toree - Scala",
   "language": "scala",
   "name": "apache_toree_scala"
  },
  "language_info": {
   "codemirror_mode": "text/x-scala",
   "file_extension": ".scala",
   "mimetype": "text/x-scala",
   "name": "scala",
   "pygments_lexer": "scala",
   "version": "2.11.8"
  }
 },
 "nbformat": 4,
 "nbformat_minor": 1
}
